{
 "cells": [
  {
   "cell_type": "markdown",
   "id": "53fea694-b8a7-400b-a5ba-34046e1118d1",
   "metadata": {},
   "source": [
    "## Hello there! 🤗\n",
    "\n",
    "This notebook is a guide to navigate all the other notebooks. If you want to run them on colab, use the open in colab option. If you want to run them on jupyter, use the open link option."
   ]
  },
  {
   "cell_type": "markdown",
   "id": "66f8eeda-f227-46f1-af1a-8c30a40d152e",
   "metadata": {},
   "source": [
    "First for chameleon users you should start by following the instructions in this notebook\n",
    "\n",
    "-   [Reserve.ipynb 📖](Reserve.ipynb)\n",
    "\n",
    "Then use this order to go throught the notebooks ( click on book to open in jupyter or open colab button to open in colab ):\n",
    "\n",
    "-   📢 [01-Introduction 📖](notebooks/01-Introduction.ipynb) \n",
    "<a target=\"_blank\" href=\"https://colab.research.google.com/github/mohammed183/ml-reproducibility-p1/blob/main/notebooks/01-Introduction.ipynb\"><img src=\"https://colab.research.google.com/assets/colab-badge.svg\" alt=\"Open In Colab\" style=\"vertical-align:middle;\"></a>\n",
    "\n",
    "-   📝 [02-Claims 📖](notebooks/02-Claims.ipynb) <a target=\"_blank\" href=\"https://colab.research.google.com/github/mohammed183/ml-reproducibility-p1/blob/main/notebooks/02-Claims.ipynb\"> <img src=\"https://colab.research.google.com/assets/colab-badge.svg\" alt=\"Open In Colab\"/> </a>\n",
    "\n",
    "-   🔍 [03-Experiment1 📖](notebooks/03-Experiment1.ipynb) <a target=\"_blank\" href=\"https://colab.research.google.com/github/mohammed183/ml-reproducibility-p1/blob/main/notebooks/03-Experiment1.ipynb\"> <img src=\"https://colab.research.google.com/assets/colab-badge.svg\" alt=\"Open In Colab\"/> </a>\n",
    "\n",
    "-   🔬 [04-Experiment2 📖](notebooks/04-Experiment2.ipynb) <a target=\"_blank\" href=\"https://colab.research.google.com/github/mohammed183/ml-reproducibility-p1/blob/main/notebooks/04-Experiment2.ipynb\"> <img src=\"https://colab.research.google.com/assets/colab-badge.svg\" alt=\"Open In Colab\"/> </a>\n",
    "\n",
    "-   🧪 [05-Experiment3 📖](notebooks/05-Experiment3.ipynb) <a target=\"_blank\" href=\"https://colab.research.google.com/github/mohammed183/ml-reproducibility-p1/blob/main/notebooks/05-Experiment3.ipynb\"> <img src=\"https://colab.research.google.com/assets/colab-badge.svg\" alt=\"Open In Colab\"/> </a>\n",
    "\n",
    "-   📚 [06-Explanation 📖](notebooks/06-Explanation.ipynb) <a target=\"_blank\" href=\"https://colab.research.google.com/github/mohammed183/ml-reproducibility-p1/blob/main/notebooks/06-Explanation.ipynb\"> <img src=\"https://colab.research.google.com/assets/colab-badge.svg\" alt=\"Open In Colab\"/> </a>"
   ]
  }
 ],
 "metadata": {
  "kernelspec": {
   "display_name": "Python 3",
   "language": "python",
   "name": "python3"
  },
  "language_info": {
   "codemirror_mode": {
    "name": "ipython",
    "version": 3
   },
   "file_extension": ".py",
   "mimetype": "text/x-python",
   "name": "python",
   "nbconvert_exporter": "python",
   "pygments_lexer": "ipython3",
   "version": "3.10.4"
  }
 },
 "nbformat": 4,
 "nbformat_minor": 5
}
