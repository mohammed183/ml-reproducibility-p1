{
 "cells": [
  {
   "cell_type": "markdown",
   "id": "53fea694-b8a7-400b-a5ba-34046e1118d1",
   "metadata": {},
   "source": [
    "## Hello there! 🤗\n",
    "\n",
    "This notebook is a guide to navigate all the other notebooks. Click on the notebook link below to navigate through notebooks. Clicking the links will open Colab or Jupyter notebooks depending on what you are using."
   ]
  },
  {
   "cell_type": "markdown",
   "id": "66f8eeda-f227-46f1-af1a-8c30a40d152e",
   "metadata": {},
   "source": [
    "Now use this order to go throught the notebooks:\n",
    "\n",
    "-   📢 [01-Introduction 📖](notebooks/01-Introduction.ipynb)\n",
    "\n",
    "\n",
    "-   📝 [02-Claims 📖](notebooks/02-Claims.ipynb)\n",
    "\n",
    "\n",
    "-   🔍 [03-Experiment1 📖](notebooks/03-Experiment1.ipynb)\n",
    "\n",
    "\n",
    "-   🔬 [04-Experiment2 📖](notebooks/04-Experiment2.ipynb) \n",
    "\n",
    "\n",
    "-   🧪 [05-Experiment3 📖](notebooks/05-Experiment3.ipynb) \n",
    "\n",
    "\n",
    "-   📚 [06-Explanation 📖](notebooks/06-Explanation.ipynb) "
   ]
  }
 ],
 "metadata": {
  "kernelspec": {
   "display_name": "Python 3 (ipykernel)",
   "language": "python",
   "name": "python3"
  },
  "language_info": {
   "codemirror_mode": {
    "name": "ipython",
    "version": 3
   },
   "file_extension": ".py",
   "mimetype": "text/x-python",
   "name": "python",
   "nbconvert_exporter": "python",
   "pygments_lexer": "ipython3",
   "version": "3.11.4"
  }
 },
 "nbformat": 4,
 "nbformat_minor": 5
}
