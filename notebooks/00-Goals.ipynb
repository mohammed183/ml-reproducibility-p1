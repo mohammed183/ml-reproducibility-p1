{
 "cells": [
  {
   "cell_type": "markdown",
   "id": "38bba935-bcf2-4cd9-b739-523b1fe187ed",
   "metadata": {},
   "source": [
    "# On Warm-Starting Neural Network Training\n",
    "\n",
    "The paper is available on [arXiv](https://arxiv.org/abs/1910.08475). In creating the interactive material for this notebook, we utilized the code from this reproducibility challenge: [Re: Warm-Starting Neural Network Training](https://rescience.github.io/bibliography/Kireev_2021.html)."
   ]
  },
  {
   "cell_type": "markdown",
   "id": "b7dec7f9-8c86-40cd-b7d6-6e2cd87cce40",
   "metadata": {},
   "source": [
    "## Goals\n",
    "\n",
    "At the end of this notebook, you will:\n",
    "\n",
    "-   learn to identify specific claims, both qualitative and quantitative, in a machine learning research paper\n",
    "-   learn to identify the specific experiments they would need to run to validate each claim\n",
    "-   learn to identify the data, code, and hyperparameters needed to run each experiment, and to make appropriate choices when these are not available\n",
    "-   understand the computational cost associated with reproducing a result, and the effect of missing information on that cost."
   ]
  },
  {
   "cell_type": "markdown",
   "id": "fb28d9e3-f5af-48c3-896d-8dc0e96f3e95",
   "metadata": {},
   "source": [
    "### While experimenting we need to answer some questions to understand the level of reproducibility of this paper:\n",
    "\n",
    "-   Is there code available for training? for inference?\n",
    "-   Is it author code, or written by someone else? Are there multiple implementations available?\n",
    "-   What framework and version was used? Are all the functions are still available or should you make some changes?\n",
    "-   Did the author compare to other models that are not implemented in the code? Are these models available?\n",
    "-   Are all hyperparameters for all experiments available? If not, what is the sensitivity of each hyperparameter?\n",
    "-   Was the initial values set at random?\n",
    "-   Are the datasets used available? Are there any modifications done to the data?\n",
    "-   Did our results match that of the original paper?"
   ]
  },
  {
   "cell_type": "markdown",
   "id": "2c485fc7-0ff3-4be1-8df5-d97f005e0909",
   "metadata": {},
   "source": [
    "If you are using colab click on this link to go to the next notebook: [Open in Colab](https://colab.research.google.com/github/mohammed183/ml-reproducibility-p1/blob/main/notebooks/01-Introduction.ipynb)"
   ]
  }
 ],
 "metadata": {
  "kernelspec": {
   "display_name": "Python 3",
   "language": "python",
   "name": "python3"
  },
  "language_info": {
   "codemirror_mode": {
    "name": "ipython",
    "version": 3
   },
   "file_extension": ".py",
   "mimetype": "text/x-python",
   "name": "python",
   "nbconvert_exporter": "python",
   "pygments_lexer": "ipython3",
   "version": "3.10.4"
  }
 },
 "nbformat": 4,
 "nbformat_minor": 5
}
