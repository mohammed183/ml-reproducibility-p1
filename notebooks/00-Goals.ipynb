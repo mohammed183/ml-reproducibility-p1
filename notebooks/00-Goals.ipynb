{
 "cells": [
  {
   "cell_type": "markdown",
   "id": "4afa7245-e61b-4602-86d1-498035186a61",
   "metadata": {},
   "source": [
    "# On Warm-Starting Neural Network Training\n",
    "\n",
    "The paper is available on [arXiv](https://arxiv.org/abs/1910.08475). In creating the interactive material for this notebook, we utilized the code from this reproducibility challenge: [Re: Warm-Starting Neural Network Training](https://rescience.github.io/bibliography/Kireev_2021.html)."
   ]
  },
  {
   "cell_type": "markdown",
   "id": "91e2cb79-75e9-4582-bc7b-8a61cc8bf473",
   "metadata": {},
   "source": [
    "## Goals\n",
    "\n",
    "The main purpose of this notebook is to:\n",
    "\n",
    "-   develop the skills to critically analyze specific claims, both qualitative and quantitative, that are made in the research paper\n",
    "-   learn to identify the specific experiments they would need to run to validate each claim\n",
    "-   learn to identify the data, code, and hyperparameters that are necessary to run each experiment, and to make reasonable choices when these are not provided\n",
    "-   understand the computational cost associated with reproducing a result, and the impact of missing information on that cost."
   ]
  },
  {
   "cell_type": "markdown",
   "id": "c6442dee-8028-4058-a694-e6a57209becf",
   "metadata": {},
   "source": [
    "### To assess the reproducibility level of this paper, we need to answer some questions while experimenting:\n",
    "\n",
    "-   Is there code available for both training and inference stages?\n",
    "-   Is the code written by the authors themselves, or by someone else? Are there multiple implementations available for comparison?\n",
    "-   What framework and version was used by the authors? Are all the functions still available or do we need to make some modifications?\n",
    "-   Did the authors compare their model to other models that are not implemented in the code? Are these models available elsewhere?\n",
    "-   Are all the hyperparameters for all the experiments clearly specified? If not, how sensitive is each hyperparameter to the performance?\n",
    "-   Were the initial values set randomly or deterministically?\n",
    "-   Are the datasets used by the authors accessible? Are there any preprocessing steps or modifications done to the data?\n",
    "-   Did we obtain the same results as reported in the original paper?"
   ]
  },
  {
   "cell_type": "markdown",
   "id": "2fa6f756-7e04-4124-9ee9-59f0faf4646a",
   "metadata": {},
   "source": [
    "If you are using colab click on this link to go to the next notebook: <a target=\"_blank\" href=\"https://colab.research.google.com/github/mohammed183/ml-reproducibility-p1/blob/main/notebooks/01-Introduction.ipynb\"> <img src=\"https://colab.research.google.com/assets/colab-badge.svg\" alt=\"Open In Colab\"/> </a>"
   ]
  }
 ],
 "metadata": {
  "kernelspec": {
   "display_name": "Python 3",
   "language": "python",
   "name": "python3"
  },
  "language_info": {
   "codemirror_mode": {
    "name": "ipython",
    "version": 3
   },
   "file_extension": ".py",
   "mimetype": "text/x-python",
   "name": "python",
   "nbconvert_exporter": "python",
   "pygments_lexer": "ipython3",
   "version": "3.10.4"
  }
 },
 "nbformat": 4,
 "nbformat_minor": 5
}
