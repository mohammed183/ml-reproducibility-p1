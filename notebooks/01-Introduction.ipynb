{
 "cells": [
  {
   "cell_type": "markdown",
   "metadata": {},
   "source": [
    "# On Warm-Starting Neural Network Training\n",
    "\n",
    "The paper is available on [arXiv](https://arxiv.org/abs/1910.08475). In creating the interactive material for this notebook, we utilized the code from this reproducibility challenge: [Re: Warm-Starting Neural Network Training](https://rescience.github.io/bibliography/Kireev_2021.html).\n",
    "\n",
    "------------------------------------------------------------------------"
   ],
   "id": "f34a9076-046f-4a8a-9f36-82bdccd5970b"
  },
  {
   "cell_type": "markdown",
   "metadata": {},
   "source": [
    "## Introduction\n",
    "\n",
    "The paper *“On Warm-Starting Neural Network Training”* by Jordan T. Ash and Ryan P. Adams addresses a common challenge in machine learning scenarios where the neural network model needs to be updated with new data that comes in continuously. For instance, Netflix’s movie recommendation system needs to constantly update its model based on the user ratings and views, and the movie features and genres. This means the model has to train on the new data that is added to the old data each time there is new data available. Each time they train the model on the new dataset they can choose from different retraining strategies.\n",
    "\n",
    "The paper investigates the trade-offs between two retraining strategies:\n",
    "\n",
    "-   Starting from scratch with random weight initialization\n",
    "-   Using the weights of the model trained on the dataset before the new data was added\n",
    "\n",
    "**What are your thoughts on each of these initializtions? Do you think they should yield similar results? Do you think they require the same training time?** 🤔"
   ],
   "id": "ee7b0e11-4808-4544-83d3-6d596628bdfd"
  },
  {
   "cell_type": "markdown",
   "metadata": {},
   "source": [
    "Training a new model from scratch using the old and new data, ignoring the existing model weights and biases is called **Cold-starting**. Training a new model using the old and new data, but initializing the model weights and biases from the existing model is called **Warm-starting**. In the following notebooks We will evaluate the author’s claims and verify them with experiments to answer the previous question.\n",
    "\n",
    "------------------------------------------------------------------------"
   ],
   "id": "9a38703c-3dbe-4c09-b175-f546d386eeb9"
  },
  {
   "cell_type": "markdown",
   "metadata": {},
   "source": [
    "## Goals\n",
    "\n",
    "The main purpose of this notebook is to:\n",
    "\n",
    "-   develop the skills to critically analyze specific claims, both qualitative and quantitative, that are made in the research paper\n",
    "-   learn to identify the specific experiments they would need to run to validate each claim\n",
    "-   learn to identify the data, code, and hyperparameters that are necessary to run each experiment, and to make reasonable choices when these are not provided\n",
    "-   understand the computational cost associated with reproducing a result, and the impact of missing information on that cost."
   ],
   "id": "1ac139d2-0795-4043-862d-8e5e0d17f70f"
  },
  {
   "cell_type": "markdown",
   "metadata": {},
   "source": [
    "**To assess the reproducibility level of this paper, we need to answer some questions while experimenting:**\n",
    "\n",
    "-   Is there code available for both training and inference stages?\n",
    "-   Is the code written by the authors themselves, or by someone else? Are there multiple implementations available for comparison?\n",
    "-   What framework and version was used by the authors? Are all the functions still available or do we need to make some modifications?\n",
    "-   Did the authors compare their model to other models that are not implemented in the code? Are these models available elsewhere?\n",
    "-   Are all the hyperparameters for all the experiments clearly specified? If not, how sensitive is each hyperparameter to the performance?\n",
    "-   Were the initial values set randomly or deterministically?\n",
    "-   Are the datasets used by the authors accessible? Are there any preprocessing steps or modifications done to the data?\n",
    "-   Did we obtain the same results as reported in the original paper?"
   ],
   "id": "c0b7fcd4-8cf2-45ff-ba0e-f953e1f890f8"
  }
 ],
 "nbformat": 4,
 "nbformat_minor": 5,
 "metadata": {}
}
