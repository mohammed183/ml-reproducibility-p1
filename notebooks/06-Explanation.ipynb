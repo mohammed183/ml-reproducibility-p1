{
 "cells": [
  {
   "cell_type": "markdown",
   "metadata": {},
   "source": [
    "## Explaining the results\n",
    "\n",
    "In this section we will answer the questions in the begining of the notebook and maybe leave some room for the student to add his answers"
   ],
   "id": "6b1f569d-ee72-431b-af65-4722a49345e5"
  }
 ],
 "nbformat": 4,
 "nbformat_minor": 5,
 "metadata": {}
}
